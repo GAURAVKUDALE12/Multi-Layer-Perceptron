{
 "cells": [
  {
   "cell_type": "markdown",
   "metadata": {},
   "source": [
    "# MLP with Keras and Scikit-learn "
   ]
  },
  {
   "cell_type": "markdown",
   "metadata": {},
   "source": [
    "### Keras\n",
    "\n",
    "    Keras is a high-level neural networks library, written in Python and capable of running on top of either TensorFlow, CNTK or Theano. Allows for easy and fast prototyping."
   ]
  },
  {
   "cell_type": "markdown",
   "metadata": {},
   "source": [
    "# Problem Statement"
   ]
  },
  {
   "cell_type": "markdown",
   "metadata": {},
   "source": [
    "This dataset is originally from the National Institute of Diabetes and Digestive and Kidney Diseases. The objective of the dataset is to diagnostically predict whether or not a patient has diabetes, based on certain diagnostic measurements included in the dataset. Several constraints were placed on the selection of these instances from a larger database. In particular, all patients here are females at least 21 years old of Pima Indian heritage."
   ]
  },
  {
   "cell_type": "markdown",
   "metadata": {},
   "source": [
    "Can you build a machine learning model to accurately predict whether or not the patients in the dataset have diabetes or not?"
   ]
  },
  {
   "cell_type": "markdown",
   "metadata": {},
   "source": [
    "#### Load Data"
   ]
  },
  {
   "cell_type": "code",
   "execution_count": 11,
   "metadata": {},
   "outputs": [],
   "source": [
    "import numpy"
   ]
  },
  {
   "cell_type": "markdown",
   "metadata": {},
   "source": [
    "Fix random seed for reproducibility"
   ]
  },
  {
   "cell_type": "code",
   "execution_count": 12,
   "metadata": {},
   "outputs": [],
   "source": [
    "numpy.random.seed(123)"
   ]
  },
  {
   "cell_type": "markdown",
   "metadata": {},
   "source": [
    "Check the current working directory "
   ]
  },
  {
   "cell_type": "code",
   "execution_count": 13,
   "metadata": {},
   "outputs": [
    {
     "data": {
      "text/plain": [
       "'/Users/iampraveenvemula/Desktop/kla/ann/today'"
      ]
     },
     "execution_count": 13,
     "metadata": {},
     "output_type": "execute_result"
    }
   ],
   "source": [
    "import os\n",
    "\n",
    "PATH = os.getcwd()\n",
    "\n",
    "PATH"
   ]
  },
  {
   "cell_type": "markdown",
   "metadata": {},
   "source": [
    "Set directory to the place where csv file exist"
   ]
  },
  {
   "cell_type": "code",
   "execution_count": 14,
   "metadata": {},
   "outputs": [],
   "source": [
    "os.chdir(PATH)"
   ]
  },
  {
   "cell_type": "markdown",
   "metadata": {},
   "source": [
    "Load pima indians dataset"
   ]
  },
  {
   "cell_type": "code",
   "execution_count": 15,
   "metadata": {},
   "outputs": [],
   "source": [
    "data = numpy.loadtxt(\"pima-indians-diabetes.csv\", delimiter=\",\")"
   ]
  },
  {
   "cell_type": "markdown",
   "metadata": {},
   "source": [
    "Print the data"
   ]
  },
  {
   "cell_type": "code",
   "execution_count": 16,
   "metadata": {},
   "outputs": [
    {
     "name": "stdout",
     "output_type": "stream",
     "text": [
      "[[  6.    148.     72.    ...   0.627  50.      1.   ]\n",
      " [  1.     85.     66.    ...   0.351  31.      0.   ]\n",
      " [  8.    183.     64.    ...   0.672  32.      1.   ]\n",
      " ...\n",
      " [  5.    121.     72.    ...   0.245  30.      0.   ]\n",
      " [  1.    126.     60.    ...   0.349  47.      1.   ]\n",
      " [  1.     93.     70.    ...   0.315  23.      0.   ]]\n"
     ]
    }
   ],
   "source": [
    "print(data)"
   ]
  },
  {
   "cell_type": "markdown",
   "metadata": {},
   "source": [
    "Print the shape of the data"
   ]
  },
  {
   "cell_type": "code",
   "execution_count": 17,
   "metadata": {},
   "outputs": [
    {
     "name": "stdout",
     "output_type": "stream",
     "text": [
      "(768, 9)\n"
     ]
    }
   ],
   "source": [
    "print (data.shape)"
   ]
  },
  {
   "cell_type": "markdown",
   "metadata": {},
   "source": [
    "Seperate independent variables(X) and target variable(y)"
   ]
  },
  {
   "cell_type": "code",
   "execution_count": 18,
   "metadata": {},
   "outputs": [],
   "source": [
    "X = data[:,0:8]\n",
    "y = data[:,8]"
   ]
  },
  {
   "cell_type": "markdown",
   "metadata": {},
   "source": [
    "Using sklearn package, split X and y into training and testing sets"
   ]
  },
  {
   "cell_type": "code",
   "execution_count": 19,
   "metadata": {},
   "outputs": [],
   "source": [
    "from sklearn.model_selection import train_test_split\n",
    "\n",
    "X_train, X_test, y_train, y_test = train_test_split(X, y, test_size=0.25, random_state=4)"
   ]
  },
  {
   "cell_type": "markdown",
   "metadata": {},
   "source": [
    "Print the shapes of the new X objects"
   ]
  },
  {
   "cell_type": "code",
   "execution_count": 20,
   "metadata": {},
   "outputs": [
    {
     "name": "stdout",
     "output_type": "stream",
     "text": [
      "(576, 8)\n",
      "(192, 8)\n"
     ]
    }
   ],
   "source": [
    "print(X_train.shape)\n",
    "\n",
    "print(X_test.shape)"
   ]
  },
  {
   "cell_type": "markdown",
   "metadata": {},
   "source": [
    "Print the shapes of the new y objects"
   ]
  },
  {
   "cell_type": "code",
   "execution_count": 21,
   "metadata": {},
   "outputs": [
    {
     "name": "stdout",
     "output_type": "stream",
     "text": [
      "(576,)\n",
      "(192,)\n"
     ]
    }
   ],
   "source": [
    "print(y_train.shape)\n",
    "\n",
    "print(y_test.shape)"
   ]
  },
  {
   "cell_type": "markdown",
   "metadata": {},
   "source": [
    "#### Define Model"
   ]
  },
  {
   "cell_type": "markdown",
   "metadata": {},
   "source": [
    "1. Models in Keras are defined as a sequence of layers.\n",
    "\n",
    "2. First sequential model is created and layers are added one at a time. \n",
    "\n",
    "__Note__:The best network structure is found through a process of trial and error experimentation."
   ]
  },
  {
   "cell_type": "markdown",
   "metadata": {},
   "source": [
    "Now we will build a fully-connected network structure with two layers.\n",
    "\n",
    "    The first layer has 12 neurons and expects 8 input variables. \n",
    "    Finally the output layer has 1 neuron to predict the class"
   ]
  },
  {
   "cell_type": "code",
   "execution_count": 22,
   "metadata": {},
   "outputs": [],
   "source": [
    "import tensorflow as tf\n",
    "\n",
    "\n",
    "from tensorflow.keras.models import Sequential\n",
    "from tensorflow.keras.layers import Dense"
   ]
  },
  {
   "cell_type": "code",
   "execution_count": 23,
   "metadata": {},
   "outputs": [],
   "source": [
    "model = Sequential()"
   ]
  },
  {
   "cell_type": "markdown",
   "metadata": {},
   "source": [
    "The Sequential model is a linear stack of layers. \n",
    "Sequential model is created by passing a list of layer instances to the constructor or by simply add layers via the .add() method:"
   ]
  },
  {
   "cell_type": "code",
   "execution_count": 24,
   "metadata": {},
   "outputs": [],
   "source": [
    "model.add(Dense(12, input_dim=8, activation='tanh', kernel_initializer='uniform'))\n",
    "model.add(Dense(1, activation='sigmoid', kernel_initializer='uniform'))"
   ]
  },
  {
   "cell_type": "markdown",
   "metadata": {},
   "source": [
    "Dense implements the operation: output = activation(dot(input, kernel) + bias) where activation is the element-wise activation function passed as the activation argument, kernel is a weights matrix created by the layer, and bias is a bias vector created by the layer (only applicable if use_bias is True).\n",
    "\n",
    "\n",
    "Note: If the input to the layer has a rank greater than 2, then it is flattened prior to the initial dot product with kernel."
   ]
  },
  {
   "cell_type": "markdown",
   "metadata": {},
   "source": [
    "Fully connected layers are defined using the Dense class. \n",
    "\n",
    "We specify \n",
    "    1. The number of neurons in the layer as the first argument\n",
    "    2. The model needs to know what input shape it should expect. For this reason, the first layer in a Sequential model (and only the first, because following layers can do automatic shape inference) needs to receive information about its input shape. One way is using input_dim argument. \n",
    "    3. The activation function using the activation argument. ‘tanh‘ activation function is used in first layer and the sigmoid activiation function in the output layer. \n",
    "    4. Initializations define the way to set the initial random weights of Keras layers. We initialize the network weights to a small random number generated from a uniform distribution (‘uniform‘).\n",
    "    "
   ]
  },
  {
   "cell_type": "markdown",
   "metadata": {},
   "source": [
    "#### Compile Model"
   ]
  },
  {
   "cell_type": "markdown",
   "metadata": {},
   "source": [
    "Before training a model, you need to configure the learning process, which is done via the compile method. It receives three arguments:\n",
    "\n",
    "    an optimizer     : This could be the string identifier of an existing optimizer (such as rmsprop or adagrad or sgd), or an instance of the Optimizer class.\n",
    "    \n",
    "    a loss function  : This is the objective that the model will try to minimize. It can be the string identifier of an existing loss function (such as categorical_crossentropy or mse), or it can be an objective function.\n",
    "    \n",
    "    a list of metrics: For any classification problem you will want to set this to metrics=['accuracy']. A metric could be the string identifier of an existing metric or a custom metric function."
   ]
  },
  {
   "cell_type": "code",
   "execution_count": 45,
   "metadata": {},
   "outputs": [],
   "source": [
    "model.compile(loss='binary_crossentropy', optimizer='sgd', metrics=['accuracy'])"
   ]
  },
  {
   "cell_type": "markdown",
   "metadata": {},
   "source": [
    "#### Training"
   ]
  },
  {
   "cell_type": "markdown",
   "metadata": {},
   "source": [
    "Keras models are trained on Numpy arrays of input data and labels. For training a model, you will typically use the fit function."
   ]
  },
  {
   "cell_type": "markdown",
   "metadata": {
    "collapsed": true
   },
   "source": [
    "Fit the model"
   ]
  },
  {
   "cell_type": "code",
   "execution_count": 46,
   "metadata": {},
   "outputs": [
    {
     "name": "stdout",
     "output_type": "stream",
     "text": [
      "Train on 576 samples\n",
      "Epoch 1/50\n",
      "576/576 [==============================] - 1s 1ms/sample - loss: 0.5897 - accuracy: 0.6649\n",
      "Epoch 2/50\n",
      "576/576 [==============================] - 0s 146us/sample - loss: 0.5784 - accuracy: 0.6719\n",
      "Epoch 3/50\n",
      "576/576 [==============================] - 0s 99us/sample - loss: 0.5842 - accuracy: 0.6840\n",
      "Epoch 4/50\n",
      "576/576 [==============================] - 0s 81us/sample - loss: 0.5825 - accuracy: 0.6649\n",
      "Epoch 5/50\n",
      "576/576 [==============================] - 0s 129us/sample - loss: 0.5837 - accuracy: 0.6632\n",
      "Epoch 6/50\n",
      "576/576 [==============================] - 0s 107us/sample - loss: 0.5801 - accuracy: 0.6736\n",
      "Epoch 7/50\n",
      "576/576 [==============================] - 0s 82us/sample - loss: 0.5794 - accuracy: 0.6753\n",
      "Epoch 8/50\n",
      "576/576 [==============================] - 0s 107us/sample - loss: 0.5846 - accuracy: 0.6562\n",
      "Epoch 9/50\n",
      "576/576 [==============================] - 0s 115us/sample - loss: 0.5759 - accuracy: 0.6771\n",
      "Epoch 10/50\n",
      "576/576 [==============================] - 0s 82us/sample - loss: 0.5841 - accuracy: 0.6771\n",
      "Epoch 11/50\n",
      "576/576 [==============================] - 0s 83us/sample - loss: 0.5848 - accuracy: 0.6771\n",
      "Epoch 12/50\n",
      "576/576 [==============================] - 0s 79us/sample - loss: 0.5777 - accuracy: 0.6823\n",
      "Epoch 13/50\n",
      "576/576 [==============================] - 0s 86us/sample - loss: 0.5804 - accuracy: 0.6719\n",
      "Epoch 14/50\n",
      "576/576 [==============================] - 0s 84us/sample - loss: 0.5820 - accuracy: 0.6649\n",
      "Epoch 15/50\n",
      "576/576 [==============================] - 0s 91us/sample - loss: 0.5878 - accuracy: 0.6649\n",
      "Epoch 16/50\n",
      "576/576 [==============================] - 0s 85us/sample - loss: 0.5813 - accuracy: 0.6788\n",
      "Epoch 17/50\n",
      "576/576 [==============================] - 0s 84us/sample - loss: 0.5826 - accuracy: 0.6771\n",
      "Epoch 18/50\n",
      "576/576 [==============================] - 0s 123us/sample - loss: 0.5800 - accuracy: 0.6684\n",
      "Epoch 19/50\n",
      "576/576 [==============================] - 0s 117us/sample - loss: 0.5831 - accuracy: 0.6719\n",
      "Epoch 20/50\n",
      "576/576 [==============================] - 0s 98us/sample - loss: 0.5883 - accuracy: 0.6580\n",
      "Epoch 21/50\n",
      "576/576 [==============================] - 0s 97us/sample - loss: 0.5797 - accuracy: 0.6684\n",
      "Epoch 22/50\n",
      "576/576 [==============================] - 0s 95us/sample - loss: 0.5767 - accuracy: 0.6806\n",
      "Epoch 23/50\n",
      "576/576 [==============================] - 0s 99us/sample - loss: 0.5696 - accuracy: 0.6788\n",
      "Epoch 24/50\n",
      "576/576 [==============================] - 0s 91us/sample - loss: 0.5764 - accuracy: 0.6615\n",
      "Epoch 25/50\n",
      "576/576 [==============================] - 0s 95us/sample - loss: 0.5766 - accuracy: 0.6771\n",
      "Epoch 26/50\n",
      "576/576 [==============================] - 0s 100us/sample - loss: 0.5810 - accuracy: 0.6684\n",
      "Epoch 27/50\n",
      "576/576 [==============================] - 0s 113us/sample - loss: 0.5763 - accuracy: 0.6615\n",
      "Epoch 28/50\n",
      "576/576 [==============================] - 0s 143us/sample - loss: 0.5789 - accuracy: 0.6753\n",
      "Epoch 29/50\n",
      "576/576 [==============================] - 0s 116us/sample - loss: 0.5880 - accuracy: 0.6458\n",
      "Epoch 30/50\n",
      "576/576 [==============================] - 0s 99us/sample - loss: 0.5895 - accuracy: 0.6458\n",
      "Epoch 31/50\n",
      "576/576 [==============================] - 0s 94us/sample - loss: 0.5737 - accuracy: 0.6806\n",
      "Epoch 32/50\n",
      "576/576 [==============================] - 0s 125us/sample - loss: 0.5877 - accuracy: 0.6684\n",
      "Epoch 33/50\n",
      "576/576 [==============================] - 0s 106us/sample - loss: 0.5794 - accuracy: 0.6719\n",
      "Epoch 34/50\n",
      "576/576 [==============================] - 0s 98us/sample - loss: 0.5737 - accuracy: 0.6806\n",
      "Epoch 35/50\n",
      "576/576 [==============================] - 0s 109us/sample - loss: 0.5791 - accuracy: 0.6649\n",
      "Epoch 36/50\n",
      "576/576 [==============================] - 0s 124us/sample - loss: 0.5882 - accuracy: 0.6753\n",
      "Epoch 37/50\n",
      "576/576 [==============================] - 0s 114us/sample - loss: 0.5745 - accuracy: 0.6771\n",
      "Epoch 38/50\n",
      "576/576 [==============================] - 0s 115us/sample - loss: 0.5809 - accuracy: 0.6684\n",
      "Epoch 39/50\n",
      "576/576 [==============================] - 0s 106us/sample - loss: 0.5769 - accuracy: 0.6771\n",
      "Epoch 40/50\n",
      "576/576 [==============================] - 0s 97us/sample - loss: 0.5809 - accuracy: 0.6771\n",
      "Epoch 41/50\n",
      "576/576 [==============================] - 0s 92us/sample - loss: 0.5801 - accuracy: 0.6753\n",
      "Epoch 42/50\n",
      "576/576 [==============================] - 0s 145us/sample - loss: 0.5825 - accuracy: 0.6684\n",
      "Epoch 43/50\n",
      "576/576 [==============================] - 0s 231us/sample - loss: 0.5820 - accuracy: 0.6719\n",
      "Epoch 44/50\n",
      "576/576 [==============================] - 0s 116us/sample - loss: 0.5644 - accuracy: 0.6892\n",
      "Epoch 45/50\n",
      "576/576 [==============================] - 0s 130us/sample - loss: 0.5774 - accuracy: 0.6771\n",
      "Epoch 46/50\n",
      "576/576 [==============================] - 0s 98us/sample - loss: 0.5694 - accuracy: 0.6979\n",
      "Epoch 47/50\n",
      "576/576 [==============================] - 0s 96us/sample - loss: 0.5781 - accuracy: 0.6892\n",
      "Epoch 48/50\n",
      "576/576 [==============================] - 0s 95us/sample - loss: 0.5808 - accuracy: 0.6875\n",
      "Epoch 49/50\n",
      "576/576 [==============================] - 0s 94us/sample - loss: 0.5737 - accuracy: 0.6892\n",
      "Epoch 50/50\n",
      "576/576 [==============================] - 0s 87us/sample - loss: 0.5725 - accuracy: 0.6858\n"
     ]
    },
    {
     "data": {
      "text/plain": [
       "<tensorflow.python.keras.callbacks.History at 0x7fba942b9890>"
      ]
     },
     "execution_count": 46,
     "metadata": {},
     "output_type": "execute_result"
    }
   ],
   "source": [
    "model.fit(X_train, y_train, epochs=50, batch_size=32)"
   ]
  },
  {
   "cell_type": "markdown",
   "metadata": {},
   "source": [
    "    x         : input data, as a Numpy array or list of Numpy arrays (if the model has multiple inputs).\n",
    "    y         : labels, as a Numpy array.\n",
    "    batch_size: integer. Number of samples per gradient update.\n",
    "    epochs  : integer, the number of epochs to train the model."
   ]
  },
  {
   "cell_type": "markdown",
   "metadata": {},
   "source": [
    "#### Evaluate Model"
   ]
  },
  {
   "cell_type": "markdown",
   "metadata": {},
   "source": [
    "In this case we trained neural network on the entire dataset and evaluating its on the same dataset."
   ]
  },
  {
   "cell_type": "code",
   "execution_count": 47,
   "metadata": {},
   "outputs": [
    {
     "name": "stdout",
     "output_type": "stream",
     "text": [
      "576/1 - 0s - loss: 0.5819 - accuracy: 0.6858\n",
      "accuracy: 68.58%\n"
     ]
    }
   ],
   "source": [
    "scores = model.evaluate(X_train, y_train, verbose=2)\n",
    "print(\"%s: %.2f%%\" % (model.metrics_names[1], scores[1]*100))"
   ]
  },
  {
   "cell_type": "markdown",
   "metadata": {},
   "source": [
    "#### Predictions"
   ]
  },
  {
   "cell_type": "markdown",
   "metadata": {},
   "source": [
    "Predict using model.predict().  \n",
    "We are using a sigmoid activation function in the output layer, so the predictions will be in the range between 0 and 1."
   ]
  },
  {
   "cell_type": "code",
   "execution_count": 48,
   "metadata": {},
   "outputs": [
    {
     "name": "stdout",
     "output_type": "stream",
     "text": [
      "[[0.3185854 ]\n",
      " [0.33325595]\n",
      " [0.4247436 ]\n",
      " [0.43414596]\n",
      " [0.26239604]\n",
      " [0.43414596]\n",
      " [0.43415147]\n",
      " [0.26994842]\n",
      " [0.23677936]\n",
      " [0.23907205]\n",
      " [0.06123254]\n",
      " [0.09893322]\n",
      " [0.17534068]\n",
      " [0.1150158 ]\n",
      " [0.43414596]\n",
      " [0.43414596]\n",
      " [0.59745014]\n",
      " [0.17666921]\n",
      " [0.17751509]\n",
      " [0.0978654 ]\n",
      " [0.43414596]\n",
      " [0.09864441]\n",
      " [0.09785721]\n",
      " [0.29327458]\n",
      " [0.09791175]\n",
      " [0.14907527]\n",
      " [0.09785417]\n",
      " [0.36396557]\n",
      " [0.21124044]\n",
      " [0.5241606 ]\n",
      " [0.4404304 ]\n",
      " [0.31329882]\n",
      " [0.09785917]\n",
      " [0.38102448]\n",
      " [0.59752315]\n",
      " [0.43411338]\n",
      " [0.10834095]\n",
      " [0.17925638]\n",
      " [0.6682084 ]\n",
      " [0.11222836]\n",
      " [0.6918935 ]\n",
      " [0.09798586]\n",
      " [0.4341458 ]\n",
      " [0.17666563]\n",
      " [0.5256457 ]\n",
      " [0.18283415]\n",
      " [0.08099049]\n",
      " [0.43414596]\n",
      " [0.43410566]\n",
      " [0.43414596]\n",
      " [0.43414596]\n",
      " [0.17795238]\n",
      " [0.30529848]\n",
      " [0.25775272]\n",
      " [0.29420334]\n",
      " [0.21377024]\n",
      " [0.43414262]\n",
      " [0.17682621]\n",
      " [0.09346724]\n",
      " [0.5382214 ]\n",
      " [0.3612798 ]\n",
      " [0.10204491]\n",
      " [0.36330026]\n",
      " [0.16031379]\n",
      " [0.09789887]\n",
      " [0.53839004]\n",
      " [0.18003032]\n",
      " [0.43187985]\n",
      " [0.35137647]\n",
      " [0.43414593]\n",
      " [0.36417502]\n",
      " [0.43414596]\n",
      " [0.5256459 ]\n",
      " [0.54160404]\n",
      " [0.32137227]\n",
      " [0.5553227 ]\n",
      " [0.09810498]\n",
      " [0.43414596]\n",
      " [0.52563   ]\n",
      " [0.11221528]\n",
      " [0.4341478 ]\n",
      " [0.36337143]\n",
      " [0.43414596]\n",
      " [0.2240411 ]\n",
      " [0.43414596]\n",
      " [0.43414098]\n",
      " [0.43414676]\n",
      " [0.5256453 ]\n",
      " [0.43412423]\n",
      " [0.11006317]\n",
      " [0.17667568]\n",
      " [0.43414596]\n",
      " [0.3802272 ]\n",
      " [0.43414596]\n",
      " [0.43414596]\n",
      " [0.09790865]\n",
      " [0.36459818]\n",
      " [0.25655973]\n",
      " [0.3335275 ]\n",
      " [0.09792855]\n",
      " [0.09785667]\n",
      " [0.3501979 ]\n",
      " [0.4172495 ]\n",
      " [0.59752977]\n",
      " [0.2933854 ]\n",
      " [0.09955126]\n",
      " [0.20262206]\n",
      " [0.09851179]\n",
      " [0.09791422]\n",
      " [0.2284348 ]\n",
      " [0.2740416 ]\n",
      " [0.43414596]\n",
      " [0.30469584]\n",
      " [0.40218383]\n",
      " [0.13949859]\n",
      " [0.40884346]\n",
      " [0.09785491]\n",
      " [0.43414596]\n",
      " [0.1755667 ]\n",
      " [0.3600011 ]\n",
      " [0.16335627]\n",
      " [0.3486793 ]\n",
      " [0.09784755]\n",
      " [0.24556702]\n",
      " [0.17563692]\n",
      " [0.1745173 ]\n",
      " [0.52547276]\n",
      " [0.10497057]\n",
      " [0.16234595]\n",
      " [0.52618563]\n",
      " [0.31205273]\n",
      " [0.43414596]\n",
      " [0.26207948]\n",
      " [0.09786206]\n",
      " [0.19524711]\n",
      " [0.27020887]\n",
      " [0.4082452 ]\n",
      " [0.5256424 ]\n",
      " [0.17719847]\n",
      " [0.17809185]\n",
      " [0.43419525]\n",
      " [0.47905296]\n",
      " [0.17866361]\n",
      " [0.1766912 ]\n",
      " [0.21195531]\n",
      " [0.4208799 ]\n",
      " [0.1014708 ]\n",
      " [0.44250923]\n",
      " [0.36290857]\n",
      " [0.36321193]\n",
      " [0.25691694]\n",
      " [0.525185  ]\n",
      " [0.09790125]\n",
      " [0.09711573]\n",
      " [0.4341474 ]\n",
      " [0.43414596]\n",
      " [0.17767757]\n",
      " [0.34515697]\n",
      " [0.5251797 ]\n",
      " [0.437734  ]\n",
      " [0.10512611]\n",
      " [0.22710857]\n",
      " [0.1025061 ]\n",
      " [0.43414596]\n",
      " [0.4341472 ]\n",
      " [0.5253549 ]\n",
      " [0.43414596]\n",
      " [0.19655931]\n",
      " [0.08254007]\n",
      " [0.25603652]\n",
      " [0.67786175]\n",
      " [0.45715633]\n",
      " [0.17824832]\n",
      " [0.17298138]\n",
      " [0.3631127 ]\n",
      " [0.10108951]\n",
      " [0.36482766]\n",
      " [0.09791416]\n",
      " [0.43433458]\n",
      " [0.35679722]\n",
      " [0.1460647 ]\n",
      " [0.43414596]\n",
      " [0.09811556]\n",
      " [0.48123023]\n",
      " [0.67485845]\n",
      " [0.5211407 ]\n",
      " [0.21709037]\n",
      " [0.09071812]\n",
      " [0.43414596]\n",
      " [0.35866958]\n",
      " [0.09810778]\n",
      " [0.313877  ]\n",
      " [0.09954149]\n",
      " [0.43414596]\n",
      " [0.2654171 ]\n",
      " [0.43506628]\n",
      " [0.55247086]\n",
      " [0.49903926]\n",
      " [0.10746288]\n",
      " [0.692688  ]\n",
      " [0.43414593]\n",
      " [0.5230548 ]\n",
      " [0.10008913]\n",
      " [0.36161888]\n",
      " [0.43365586]\n",
      " [0.09785503]\n",
      " [0.43414593]\n",
      " [0.17174083]\n",
      " [0.3082223 ]\n",
      " [0.35140955]\n",
      " [0.43414593]\n",
      " [0.50082684]\n",
      " [0.43414596]\n",
      " [0.5122091 ]\n",
      " [0.43414596]\n",
      " [0.3266222 ]\n",
      " [0.17282292]\n",
      " [0.36405265]\n",
      " [0.43414596]\n",
      " [0.43414596]\n",
      " [0.43414596]\n",
      " [0.5072983 ]\n",
      " [0.19595733]\n",
      " [0.36731058]\n",
      " [0.3069411 ]\n",
      " [0.5059852 ]\n",
      " [0.17670277]\n",
      " [0.22391126]\n",
      " [0.3642134 ]\n",
      " [0.43414596]\n",
      " [0.09789598]\n",
      " [0.13569194]\n",
      " [0.5975278 ]\n",
      " [0.21975705]\n",
      " [0.2469292 ]\n",
      " [0.33924323]\n",
      " [0.43243656]\n",
      " [0.363659  ]\n",
      " [0.43414596]\n",
      " [0.43414596]\n",
      " [0.39361888]\n",
      " [0.17478487]\n",
      " [0.10147023]\n",
      " [0.35181475]\n",
      " [0.36497957]\n",
      " [0.434146  ]\n",
      " [0.17666665]\n",
      " [0.1183871 ]\n",
      " [0.43414596]\n",
      " [0.43414596]\n",
      " [0.43414596]\n",
      " [0.5438771 ]\n",
      " [0.36547002]\n",
      " [0.09870797]\n",
      " [0.19358534]\n",
      " [0.5256318 ]\n",
      " [0.10615212]\n",
      " [0.17960402]\n",
      " [0.09850875]\n",
      " [0.10940275]\n",
      " [0.36256474]\n",
      " [0.5256438 ]\n",
      " [0.36042988]\n",
      " [0.27866188]\n",
      " [0.3536933 ]\n",
      " [0.10891533]\n",
      " [0.17672515]\n",
      " [0.11096972]\n",
      " [0.3634396 ]\n",
      " [0.43414596]\n",
      " [0.52521557]\n",
      " [0.09800535]\n",
      " [0.59752136]\n",
      " [0.18200779]\n",
      " [0.131556  ]\n",
      " [0.17640588]\n",
      " [0.43414596]\n",
      " [0.17669153]\n",
      " [0.22549462]\n",
      " [0.09784195]\n",
      " [0.34581864]\n",
      " [0.17503616]\n",
      " [0.6928215 ]\n",
      " [0.25587603]\n",
      " [0.27471364]\n",
      " [0.527359  ]\n",
      " [0.5802166 ]\n",
      " [0.5189278 ]\n",
      " [0.3962566 ]\n",
      " [0.43414596]\n",
      " [0.36039513]\n",
      " [0.3392095 ]\n",
      " [0.39209062]\n",
      " [0.35416567]\n",
      " [0.26003802]\n",
      " [0.17640683]\n",
      " [0.3591599 ]\n",
      " [0.18196434]\n",
      " [0.43414596]\n",
      " [0.09842616]\n",
      " [0.1651923 ]\n",
      " [0.2933364 ]\n",
      " [0.3295471 ]\n",
      " [0.18343511]\n",
      " [0.35535598]\n",
      " [0.30530423]\n",
      " [0.22308642]\n",
      " [0.32415485]\n",
      " [0.10101673]\n",
      " [0.43414578]\n",
      " [0.1766567 ]\n",
      " [0.52509487]\n",
      " [0.5256384 ]\n",
      " [0.26650542]\n",
      " [0.5408948 ]\n",
      " [0.09781376]\n",
      " [0.09787291]\n",
      " [0.11495498]\n",
      " [0.3421266 ]\n",
      " [0.5190309 ]\n",
      " [0.09786439]\n",
      " [0.43414596]\n",
      " [0.50593776]\n",
      " [0.17520064]\n",
      " [0.29342413]\n",
      " [0.43414596]\n",
      " [0.5225039 ]\n",
      " [0.43414596]\n",
      " [0.09787139]\n",
      " [0.5784295 ]\n",
      " [0.18040866]\n",
      " [0.09790707]\n",
      " [0.26426858]\n",
      " [0.54382354]\n",
      " [0.3766993 ]\n",
      " [0.43414596]\n",
      " [0.17666394]\n",
      " [0.43414596]\n",
      " [0.33650452]\n",
      " [0.4224595 ]\n",
      " [0.5256457 ]\n",
      " [0.09860608]\n",
      " [0.09821799]\n",
      " [0.36336455]\n",
      " [0.17102864]\n",
      " [0.36405742]\n",
      " [0.24335268]\n",
      " [0.43414596]\n",
      " [0.09660941]\n",
      " [0.17673463]\n",
      " [0.59639585]\n",
      " [0.43414596]\n",
      " [0.43414596]\n",
      " [0.18334126]\n",
      " [0.18830734]\n",
      " [0.10513976]\n",
      " [0.07631385]\n",
      " [0.35883904]\n",
      " [0.5256408 ]\n",
      " [0.30385756]\n",
      " [0.4385628 ]\n",
      " [0.09786499]\n",
      " [0.09786215]\n",
      " [0.43414596]\n",
      " [0.29262334]\n",
      " [0.17676145]\n",
      " [0.18160748]\n",
      " [0.434146  ]\n",
      " [0.37419564]\n",
      " [0.3468106 ]\n",
      " [0.43414596]\n",
      " [0.20576972]\n",
      " [0.16381517]\n",
      " [0.36417264]\n",
      " [0.5254381 ]\n",
      " [0.18898484]\n",
      " [0.5256078 ]\n",
      " [0.4967971 ]\n",
      " [0.4193989 ]\n",
      " [0.43414596]\n",
      " [0.3932736 ]\n",
      " [0.36410555]\n",
      " [0.35833472]\n",
      " [0.21704152]\n",
      " [0.36406654]\n",
      " [0.65200156]\n",
      " [0.13555703]\n",
      " [0.58422345]\n",
      " [0.43414596]\n",
      " [0.43414596]\n",
      " [0.17660034]\n",
      " [0.07624096]\n",
      " [0.4341459 ]\n",
      " [0.43414596]\n",
      " [0.36380234]\n",
      " [0.3704496 ]\n",
      " [0.5291003 ]\n",
      " [0.43414596]\n",
      " [0.18535751]\n",
      " [0.25623837]\n",
      " [0.27827153]\n",
      " [0.52771795]\n",
      " [0.5227172 ]\n",
      " [0.09993225]\n",
      " [0.43414593]\n",
      " [0.42963472]\n",
      " [0.43414593]\n",
      " [0.5442262 ]\n",
      " [0.6711136 ]\n",
      " [0.43413043]\n",
      " [0.6961088 ]\n",
      " [0.25270945]\n",
      " [0.43414596]\n",
      " [0.43414596]\n",
      " [0.09785676]\n",
      " [0.09827167]\n",
      " [0.26634794]\n",
      " [0.52560544]\n",
      " [0.5192971 ]\n",
      " [0.52560604]\n",
      " [0.18112174]\n",
      " [0.13878277]\n",
      " [0.32502037]\n",
      " [0.5975242 ]\n",
      " [0.13372764]\n",
      " [0.33559036]\n",
      " [0.36140323]\n",
      " [0.32783383]\n",
      " [0.1209448 ]\n",
      " [0.17623955]\n",
      " [0.43414593]\n",
      " [0.22174343]\n",
      " [0.1244612 ]\n",
      " [0.43414596]\n",
      " [0.43414596]\n",
      " [0.09158346]\n",
      " [0.5256457 ]\n",
      " [0.43595433]\n",
      " [0.43414596]\n",
      " [0.41974285]\n",
      " [0.11103085]\n",
      " [0.09790805]\n",
      " [0.39942253]\n",
      " [0.14244083]\n",
      " [0.60998905]\n",
      " [0.17669615]\n",
      " [0.43414596]\n",
      " [0.5255083 ]\n",
      " [0.43414643]\n",
      " [0.17657179]\n",
      " [0.526405  ]\n",
      " [0.43414596]\n",
      " [0.16365564]\n",
      " [0.097864  ]\n",
      " [0.43414596]\n",
      " [0.17667991]\n",
      " [0.136794  ]\n",
      " [0.42961162]\n",
      " [0.5248933 ]\n",
      " [0.09787148]\n",
      " [0.18003803]\n",
      " [0.09787083]\n",
      " [0.43414596]\n",
      " [0.504511  ]\n",
      " [0.5256459 ]\n",
      " [0.52493626]\n",
      " [0.17679676]\n",
      " [0.09784535]\n",
      " [0.36435208]\n",
      " [0.30735195]\n",
      " [0.43414408]\n",
      " [0.36404434]\n",
      " [0.43414596]\n",
      " [0.12252057]\n",
      " [0.5250356 ]\n",
      " [0.09783378]\n",
      " [0.25605357]\n",
      " [0.10359269]\n",
      " [0.5256466 ]\n",
      " [0.10663429]\n",
      " [0.18110994]\n",
      " [0.5927338 ]\n",
      " [0.11784875]\n",
      " [0.69712996]\n",
      " [0.09785405]\n",
      " [0.6960984 ]\n",
      " [0.3332296 ]\n",
      " [0.3607247 ]\n",
      " [0.43414596]\n",
      " [0.43414596]\n",
      " [0.595997  ]\n",
      " [0.26010954]\n",
      " [0.43414605]\n",
      " [0.09785959]\n",
      " [0.5256578 ]\n",
      " [0.3638032 ]\n",
      " [0.43414596]\n",
      " [0.25606674]\n",
      " [0.52322257]\n",
      " [0.11290258]\n",
      " [0.59422076]\n",
      " [0.4341157 ]\n",
      " [0.09787408]\n",
      " [0.44074962]\n",
      " [0.58747125]\n",
      " [0.4341461 ]\n",
      " [0.1766671 ]\n",
      " [0.2071912 ]\n",
      " [0.09804711]\n",
      " [0.19025785]\n",
      " [0.43600404]\n",
      " [0.43414596]\n",
      " [0.10567182]\n",
      " [0.43414557]\n",
      " [0.20680332]\n",
      " [0.11194724]\n",
      " [0.53578705]\n",
      " [0.5975304 ]\n",
      " [0.38902402]\n",
      " [0.09794191]\n",
      " [0.43414596]\n",
      " [0.09785572]\n",
      " [0.43414596]\n",
      " [0.10220978]\n",
      " [0.09779018]\n",
      " [0.1753143 ]\n",
      " [0.11247528]\n",
      " [0.43414596]\n",
      " [0.43414596]\n",
      " [0.36403188]\n",
      " [0.21550778]\n",
      " [0.43414596]\n",
      " [0.23309207]\n",
      " [0.43414596]\n",
      " [0.4318258 ]\n",
      " [0.17348394]\n",
      " [0.33617714]\n",
      " [0.5263004 ]\n",
      " [0.43508214]\n",
      " [0.09789905]\n",
      " [0.09910542]\n",
      " [0.3409893 ]\n",
      " [0.2977373 ]\n",
      " [0.49429783]\n",
      " [0.43149585]\n",
      " [0.3642413 ]\n",
      " [0.18754524]\n",
      " [0.52563816]\n",
      " [0.52634126]\n",
      " [0.4373411 ]\n",
      " [0.43414596]\n",
      " [0.29023612]\n",
      " [0.17664728]\n",
      " [0.43414596]\n",
      " [0.09927133]\n",
      " [0.5414422 ]\n",
      " [0.3269077 ]\n",
      " [0.525641  ]\n",
      " [0.34232414]\n",
      " [0.09292978]\n",
      " [0.39623317]\n",
      " [0.5256459 ]\n",
      " [0.5256453 ]\n",
      " [0.5221608 ]\n",
      " [0.1927484 ]\n",
      " [0.43414596]\n",
      " [0.09785718]\n",
      " [0.36472893]\n",
      " [0.15047982]\n",
      " [0.52563536]\n",
      " [0.5971449 ]\n",
      " [0.43465266]\n",
      " [0.434146  ]\n",
      " [0.3139223 ]\n",
      " [0.09786111]\n",
      " [0.17670837]]\n"
     ]
    }
   ],
   "source": [
    "predictions = model.predict(X_train)\n",
    "print(predictions)"
   ]
  },
  {
   "cell_type": "code",
   "execution_count": 49,
   "metadata": {},
   "outputs": [
    {
     "data": {
      "text/plain": [
       "array([[0],\n",
       "       [0],\n",
       "       [0],\n",
       "       [0],\n",
       "       [0]], dtype=int32)"
      ]
     },
     "execution_count": 49,
     "metadata": {},
     "output_type": "execute_result"
    }
   ],
   "source": [
    "model.predict_classes(X_train)[0:5]"
   ]
  },
  {
   "cell_type": "code",
   "execution_count": 50,
   "metadata": {},
   "outputs": [
    {
     "name": "stdout",
     "output_type": "stream",
     "text": [
      "[[0]\n",
      " [0]\n",
      " [0]\n",
      " [0]\n",
      " [0]\n",
      " [0]\n",
      " [0]\n",
      " [0]\n",
      " [0]\n",
      " [0]\n",
      " [0]\n",
      " [0]\n",
      " [0]\n",
      " [0]\n",
      " [0]\n",
      " [0]\n",
      " [0]\n",
      " [0]\n",
      " [0]\n",
      " [0]\n",
      " [0]\n",
      " [0]\n",
      " [0]\n",
      " [0]\n",
      " [0]\n",
      " [0]\n",
      " [0]\n",
      " [1]\n",
      " [0]\n",
      " [0]\n",
      " [0]\n",
      " [0]\n",
      " [0]\n",
      " [0]\n",
      " [0]\n",
      " [0]\n",
      " [1]\n",
      " [0]\n",
      " [0]\n",
      " [1]\n",
      " [0]\n",
      " [0]\n",
      " [0]\n",
      " [0]\n",
      " [0]\n",
      " [1]\n",
      " [0]\n",
      " [1]\n",
      " [0]\n",
      " [0]\n",
      " [0]\n",
      " [1]\n",
      " [0]\n",
      " [0]\n",
      " [0]\n",
      " [0]\n",
      " [1]\n",
      " [0]\n",
      " [0]\n",
      " [0]\n",
      " [0]\n",
      " [0]\n",
      " [0]\n",
      " [0]\n",
      " [0]\n",
      " [0]\n",
      " [0]\n",
      " [0]\n",
      " [0]\n",
      " [0]\n",
      " [0]\n",
      " [0]\n",
      " [0]\n",
      " [0]\n",
      " [0]\n",
      " [1]\n",
      " [1]\n",
      " [0]\n",
      " [0]\n",
      " [1]\n",
      " [0]\n",
      " [0]\n",
      " [1]\n",
      " [1]\n",
      " [0]\n",
      " [0]\n",
      " [0]\n",
      " [1]\n",
      " [0]\n",
      " [0]\n",
      " [0]\n",
      " [0]\n",
      " [0]\n",
      " [0]\n",
      " [0]\n",
      " [0]\n",
      " [0]\n",
      " [0]\n",
      " [1]\n",
      " [1]\n",
      " [0]\n",
      " [0]\n",
      " [0]\n",
      " [0]\n",
      " [1]\n",
      " [0]\n",
      " [0]\n",
      " [1]\n",
      " [0]\n",
      " [0]\n",
      " [1]\n",
      " [0]\n",
      " [0]\n",
      " [0]\n",
      " [0]\n",
      " [0]\n",
      " [0]\n",
      " [0]\n",
      " [1]\n",
      " [1]\n",
      " [0]\n",
      " [0]\n",
      " [0]\n",
      " [0]\n",
      " [0]\n",
      " [0]\n",
      " [0]\n",
      " [0]\n",
      " [0]\n",
      " [1]\n",
      " [0]\n",
      " [1]\n",
      " [0]\n",
      " [0]\n",
      " [1]\n",
      " [0]\n",
      " [0]\n",
      " [0]\n",
      " [0]\n",
      " [0]\n",
      " [0]\n",
      " [0]\n",
      " [0]\n",
      " [0]\n",
      " [1]\n",
      " [1]\n",
      " [0]\n",
      " [0]\n",
      " [0]\n",
      " [0]\n",
      " [0]\n",
      " [0]\n",
      " [1]\n",
      " [1]\n",
      " [0]\n",
      " [0]\n",
      " [0]\n",
      " [0]\n",
      " [0]\n",
      " [1]\n",
      " [0]\n",
      " [0]\n",
      " [0]\n",
      " [0]\n",
      " [0]\n",
      " [0]\n",
      " [0]\n",
      " [0]\n",
      " [0]\n",
      " [0]\n",
      " [0]\n",
      " [0]\n",
      " [0]\n",
      " [0]\n",
      " [1]\n",
      " [0]\n",
      " [1]\n",
      " [0]\n",
      " [0]\n",
      " [0]\n",
      " [0]\n",
      " [0]\n",
      " [0]\n",
      " [1]\n",
      " [0]\n",
      " [0]\n",
      " [1]\n",
      " [1]\n",
      " [0]\n",
      " [0]\n",
      " [0]\n",
      " [0]]\n"
     ]
    }
   ],
   "source": [
    "y_pred_class = model.predict_classes(X_test)\n",
    "print(y_pred_class)"
   ]
  },
  {
   "cell_type": "markdown",
   "metadata": {},
   "source": [
    "Calculate accuracy of class predictions"
   ]
  },
  {
   "cell_type": "code",
   "execution_count": 51,
   "metadata": {},
   "outputs": [
    {
     "data": {
      "text/plain": [
       "0.6927083333333334"
      ]
     },
     "execution_count": 51,
     "metadata": {},
     "output_type": "execute_result"
    }
   ],
   "source": [
    "from sklearn import metrics\n",
    "\n",
    "from sklearn.metrics import classification_report\n",
    "\n",
    "metrics.accuracy_score(y_test, y_pred_class)"
   ]
  },
  {
   "cell_type": "markdown",
   "metadata": {},
   "source": [
    "Print the confusion matrix"
   ]
  },
  {
   "cell_type": "code",
   "execution_count": 52,
   "metadata": {},
   "outputs": [
    {
     "data": {
      "text/plain": [
       "array([[113,  13],\n",
       "       [ 46,  20]])"
      ]
     },
     "execution_count": 52,
     "metadata": {},
     "output_type": "execute_result"
    }
   ],
   "source": [
    "metrics.confusion_matrix(y_test, y_pred_class)"
   ]
  },
  {
   "cell_type": "code",
   "execution_count": 53,
   "metadata": {},
   "outputs": [
    {
     "name": "stdout",
     "output_type": "stream",
     "text": [
      "              precision    recall  f1-score   support\n",
      "\n",
      "         0.0       0.71      0.90      0.79       126\n",
      "         1.0       0.61      0.30      0.40        66\n",
      "\n",
      "    accuracy                           0.69       192\n",
      "   macro avg       0.66      0.60      0.60       192\n",
      "weighted avg       0.67      0.69      0.66       192\n",
      "\n"
     ]
    }
   ],
   "source": [
    "print(classification_report(y_test, y_pred_class))"
   ]
  },
  {
   "cell_type": "code",
   "execution_count": 56,
   "metadata": {},
   "outputs": [],
   "source": [
    "# Can you tune hyperparameters to improve the recall & precision score?"
   ]
  },
  {
   "cell_type": "markdown",
   "metadata": {},
   "source": [
    "Reference:\n",
    "\n",
    "    https://keras.io/"
   ]
  }
 ],
 "metadata": {
  "kernelspec": {
   "display_name": "Python 3 (ipykernel)",
   "language": "python",
   "name": "python3"
  },
  "language_info": {
   "codemirror_mode": {
    "name": "ipython",
    "version": 3
   },
   "file_extension": ".py",
   "mimetype": "text/x-python",
   "name": "python",
   "nbconvert_exporter": "python",
   "pygments_lexer": "ipython3",
   "version": "3.9.7"
  },
  "toc": {
   "base_numbering": 1,
   "nav_menu": {},
   "number_sections": true,
   "sideBar": true,
   "skip_h1_title": false,
   "title_cell": "Table of Contents",
   "title_sidebar": "Contents",
   "toc_cell": false,
   "toc_position": {},
   "toc_section_display": true,
   "toc_window_display": false
  }
 },
 "nbformat": 4,
 "nbformat_minor": 2
}
